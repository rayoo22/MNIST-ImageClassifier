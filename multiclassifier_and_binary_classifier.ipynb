{
  "nbformat": 4,
  "nbformat_minor": 0,
  "metadata": {
    "colab": {
      "provenance": [],
      "authorship_tag": "ABX9TyMKY6sBrG2x/7Ln+1x+mf1D",
      "include_colab_link": true
    },
    "kernelspec": {
      "name": "python3",
      "display_name": "Python 3"
    },
    "language_info": {
      "name": "python"
    }
  },
  "cells": [
    {
      "cell_type": "markdown",
      "metadata": {
        "id": "view-in-github",
        "colab_type": "text"
      },
      "source": [
        "<a href=\"https://colab.research.google.com/github/rayoo22/MNIST-ImageClassifier/blob/main/multiclassifier_and_binary_classifier.ipynb\" target=\"_parent\"><img src=\"https://colab.research.google.com/assets/colab-badge.svg\" alt=\"Open In Colab\"/></a>"
      ]
    },
    {
      "cell_type": "code",
      "execution_count": 1,
      "metadata": {
        "id": "WIXS5M2ezk3l"
      },
      "outputs": [],
      "source": [
        "import seaborn as sns\n",
        "import matplotlib.pyplot as plt\n",
        "from pyspark.sql import SparkSession\n",
        "from pyspark.sql.functions import col, when, trim, rand\n",
        "from google.colab import files\n",
        "from pyspark.ml.feature import StringIndexer, VectorAssembler\n",
        "from pyspark.ml.classification import RandomForestClassifier\n",
        "from pyspark.ml.evaluation import BinaryClassificationEvaluator\n",
        "from pyspark.ml.evaluation import MulticlassClassificationEvaluator\n",
        "from sklearn.metrics import confusion_matrix, ConfusionMatrixDisplay, classification_report, roc_curve, auc"
      ]
    },
    {
      "cell_type": "code",
      "source": [
        "uploaded = files.upload()"
      ],
      "metadata": {
        "colab": {
          "base_uri": "https://localhost:8080/",
          "height": 73
        },
        "id": "Gyyt8Q77z6me",
        "outputId": "74a4e73c-8bb8-4736-e418-83482067752f"
      },
      "execution_count": 2,
      "outputs": [
        {
          "output_type": "display_data",
          "data": {
            "text/plain": [
              "<IPython.core.display.HTML object>"
            ],
            "text/html": [
              "\n",
              "     <input type=\"file\" id=\"files-12abd8fc-f93f-4c80-8464-0036b10fe9ae\" name=\"files[]\" multiple disabled\n",
              "        style=\"border:none\" />\n",
              "     <output id=\"result-12abd8fc-f93f-4c80-8464-0036b10fe9ae\">\n",
              "      Upload widget is only available when the cell has been executed in the\n",
              "      current browser session. Please rerun this cell to enable.\n",
              "      </output>\n",
              "      <script>// Copyright 2017 Google LLC\n",
              "//\n",
              "// Licensed under the Apache License, Version 2.0 (the \"License\");\n",
              "// you may not use this file except in compliance with the License.\n",
              "// You may obtain a copy of the License at\n",
              "//\n",
              "//      http://www.apache.org/licenses/LICENSE-2.0\n",
              "//\n",
              "// Unless required by applicable law or agreed to in writing, software\n",
              "// distributed under the License is distributed on an \"AS IS\" BASIS,\n",
              "// WITHOUT WARRANTIES OR CONDITIONS OF ANY KIND, either express or implied.\n",
              "// See the License for the specific language governing permissions and\n",
              "// limitations under the License.\n",
              "\n",
              "/**\n",
              " * @fileoverview Helpers for google.colab Python module.\n",
              " */\n",
              "(function(scope) {\n",
              "function span(text, styleAttributes = {}) {\n",
              "  const element = document.createElement('span');\n",
              "  element.textContent = text;\n",
              "  for (const key of Object.keys(styleAttributes)) {\n",
              "    element.style[key] = styleAttributes[key];\n",
              "  }\n",
              "  return element;\n",
              "}\n",
              "\n",
              "// Max number of bytes which will be uploaded at a time.\n",
              "const MAX_PAYLOAD_SIZE = 100 * 1024;\n",
              "\n",
              "function _uploadFiles(inputId, outputId) {\n",
              "  const steps = uploadFilesStep(inputId, outputId);\n",
              "  const outputElement = document.getElementById(outputId);\n",
              "  // Cache steps on the outputElement to make it available for the next call\n",
              "  // to uploadFilesContinue from Python.\n",
              "  outputElement.steps = steps;\n",
              "\n",
              "  return _uploadFilesContinue(outputId);\n",
              "}\n",
              "\n",
              "// This is roughly an async generator (not supported in the browser yet),\n",
              "// where there are multiple asynchronous steps and the Python side is going\n",
              "// to poll for completion of each step.\n",
              "// This uses a Promise to block the python side on completion of each step,\n",
              "// then passes the result of the previous step as the input to the next step.\n",
              "function _uploadFilesContinue(outputId) {\n",
              "  const outputElement = document.getElementById(outputId);\n",
              "  const steps = outputElement.steps;\n",
              "\n",
              "  const next = steps.next(outputElement.lastPromiseValue);\n",
              "  return Promise.resolve(next.value.promise).then((value) => {\n",
              "    // Cache the last promise value to make it available to the next\n",
              "    // step of the generator.\n",
              "    outputElement.lastPromiseValue = value;\n",
              "    return next.value.response;\n",
              "  });\n",
              "}\n",
              "\n",
              "/**\n",
              " * Generator function which is called between each async step of the upload\n",
              " * process.\n",
              " * @param {string} inputId Element ID of the input file picker element.\n",
              " * @param {string} outputId Element ID of the output display.\n",
              " * @return {!Iterable<!Object>} Iterable of next steps.\n",
              " */\n",
              "function* uploadFilesStep(inputId, outputId) {\n",
              "  const inputElement = document.getElementById(inputId);\n",
              "  inputElement.disabled = false;\n",
              "\n",
              "  const outputElement = document.getElementById(outputId);\n",
              "  outputElement.innerHTML = '';\n",
              "\n",
              "  const pickedPromise = new Promise((resolve) => {\n",
              "    inputElement.addEventListener('change', (e) => {\n",
              "      resolve(e.target.files);\n",
              "    });\n",
              "  });\n",
              "\n",
              "  const cancel = document.createElement('button');\n",
              "  inputElement.parentElement.appendChild(cancel);\n",
              "  cancel.textContent = 'Cancel upload';\n",
              "  const cancelPromise = new Promise((resolve) => {\n",
              "    cancel.onclick = () => {\n",
              "      resolve(null);\n",
              "    };\n",
              "  });\n",
              "\n",
              "  // Wait for the user to pick the files.\n",
              "  const files = yield {\n",
              "    promise: Promise.race([pickedPromise, cancelPromise]),\n",
              "    response: {\n",
              "      action: 'starting',\n",
              "    }\n",
              "  };\n",
              "\n",
              "  cancel.remove();\n",
              "\n",
              "  // Disable the input element since further picks are not allowed.\n",
              "  inputElement.disabled = true;\n",
              "\n",
              "  if (!files) {\n",
              "    return {\n",
              "      response: {\n",
              "        action: 'complete',\n",
              "      }\n",
              "    };\n",
              "  }\n",
              "\n",
              "  for (const file of files) {\n",
              "    const li = document.createElement('li');\n",
              "    li.append(span(file.name, {fontWeight: 'bold'}));\n",
              "    li.append(span(\n",
              "        `(${file.type || 'n/a'}) - ${file.size} bytes, ` +\n",
              "        `last modified: ${\n",
              "            file.lastModifiedDate ? file.lastModifiedDate.toLocaleDateString() :\n",
              "                                    'n/a'} - `));\n",
              "    const percent = span('0% done');\n",
              "    li.appendChild(percent);\n",
              "\n",
              "    outputElement.appendChild(li);\n",
              "\n",
              "    const fileDataPromise = new Promise((resolve) => {\n",
              "      const reader = new FileReader();\n",
              "      reader.onload = (e) => {\n",
              "        resolve(e.target.result);\n",
              "      };\n",
              "      reader.readAsArrayBuffer(file);\n",
              "    });\n",
              "    // Wait for the data to be ready.\n",
              "    let fileData = yield {\n",
              "      promise: fileDataPromise,\n",
              "      response: {\n",
              "        action: 'continue',\n",
              "      }\n",
              "    };\n",
              "\n",
              "    // Use a chunked sending to avoid message size limits. See b/62115660.\n",
              "    let position = 0;\n",
              "    do {\n",
              "      const length = Math.min(fileData.byteLength - position, MAX_PAYLOAD_SIZE);\n",
              "      const chunk = new Uint8Array(fileData, position, length);\n",
              "      position += length;\n",
              "\n",
              "      const base64 = btoa(String.fromCharCode.apply(null, chunk));\n",
              "      yield {\n",
              "        response: {\n",
              "          action: 'append',\n",
              "          file: file.name,\n",
              "          data: base64,\n",
              "        },\n",
              "      };\n",
              "\n",
              "      let percentDone = fileData.byteLength === 0 ?\n",
              "          100 :\n",
              "          Math.round((position / fileData.byteLength) * 100);\n",
              "      percent.textContent = `${percentDone}% done`;\n",
              "\n",
              "    } while (position < fileData.byteLength);\n",
              "  }\n",
              "\n",
              "  // All done.\n",
              "  yield {\n",
              "    response: {\n",
              "      action: 'complete',\n",
              "    }\n",
              "  };\n",
              "}\n",
              "\n",
              "scope.google = scope.google || {};\n",
              "scope.google.colab = scope.google.colab || {};\n",
              "scope.google.colab._files = {\n",
              "  _uploadFiles,\n",
              "  _uploadFilesContinue,\n",
              "};\n",
              "})(self);\n",
              "</script> "
            ]
          },
          "metadata": {}
        },
        {
          "output_type": "stream",
          "name": "stdout",
          "text": [
            "Saving UNSW-NB15.csv to UNSW-NB15.csv\n"
          ]
        }
      ]
    },
    {
      "cell_type": "code",
      "source": [
        "uploaded1 = files.upload()"
      ],
      "metadata": {
        "colab": {
          "base_uri": "https://localhost:8080/",
          "height": 73
        },
        "id": "7l-oypjl1mHw",
        "outputId": "9ddbf39e-37de-4abb-f61b-e9600ff073eb"
      },
      "execution_count": 3,
      "outputs": [
        {
          "output_type": "display_data",
          "data": {
            "text/plain": [
              "<IPython.core.display.HTML object>"
            ],
            "text/html": [
              "\n",
              "     <input type=\"file\" id=\"files-8a6ee7c5-a445-48d5-8fab-90930bf9deaa\" name=\"files[]\" multiple disabled\n",
              "        style=\"border:none\" />\n",
              "     <output id=\"result-8a6ee7c5-a445-48d5-8fab-90930bf9deaa\">\n",
              "      Upload widget is only available when the cell has been executed in the\n",
              "      current browser session. Please rerun this cell to enable.\n",
              "      </output>\n",
              "      <script>// Copyright 2017 Google LLC\n",
              "//\n",
              "// Licensed under the Apache License, Version 2.0 (the \"License\");\n",
              "// you may not use this file except in compliance with the License.\n",
              "// You may obtain a copy of the License at\n",
              "//\n",
              "//      http://www.apache.org/licenses/LICENSE-2.0\n",
              "//\n",
              "// Unless required by applicable law or agreed to in writing, software\n",
              "// distributed under the License is distributed on an \"AS IS\" BASIS,\n",
              "// WITHOUT WARRANTIES OR CONDITIONS OF ANY KIND, either express or implied.\n",
              "// See the License for the specific language governing permissions and\n",
              "// limitations under the License.\n",
              "\n",
              "/**\n",
              " * @fileoverview Helpers for google.colab Python module.\n",
              " */\n",
              "(function(scope) {\n",
              "function span(text, styleAttributes = {}) {\n",
              "  const element = document.createElement('span');\n",
              "  element.textContent = text;\n",
              "  for (const key of Object.keys(styleAttributes)) {\n",
              "    element.style[key] = styleAttributes[key];\n",
              "  }\n",
              "  return element;\n",
              "}\n",
              "\n",
              "// Max number of bytes which will be uploaded at a time.\n",
              "const MAX_PAYLOAD_SIZE = 100 * 1024;\n",
              "\n",
              "function _uploadFiles(inputId, outputId) {\n",
              "  const steps = uploadFilesStep(inputId, outputId);\n",
              "  const outputElement = document.getElementById(outputId);\n",
              "  // Cache steps on the outputElement to make it available for the next call\n",
              "  // to uploadFilesContinue from Python.\n",
              "  outputElement.steps = steps;\n",
              "\n",
              "  return _uploadFilesContinue(outputId);\n",
              "}\n",
              "\n",
              "// This is roughly an async generator (not supported in the browser yet),\n",
              "// where there are multiple asynchronous steps and the Python side is going\n",
              "// to poll for completion of each step.\n",
              "// This uses a Promise to block the python side on completion of each step,\n",
              "// then passes the result of the previous step as the input to the next step.\n",
              "function _uploadFilesContinue(outputId) {\n",
              "  const outputElement = document.getElementById(outputId);\n",
              "  const steps = outputElement.steps;\n",
              "\n",
              "  const next = steps.next(outputElement.lastPromiseValue);\n",
              "  return Promise.resolve(next.value.promise).then((value) => {\n",
              "    // Cache the last promise value to make it available to the next\n",
              "    // step of the generator.\n",
              "    outputElement.lastPromiseValue = value;\n",
              "    return next.value.response;\n",
              "  });\n",
              "}\n",
              "\n",
              "/**\n",
              " * Generator function which is called between each async step of the upload\n",
              " * process.\n",
              " * @param {string} inputId Element ID of the input file picker element.\n",
              " * @param {string} outputId Element ID of the output display.\n",
              " * @return {!Iterable<!Object>} Iterable of next steps.\n",
              " */\n",
              "function* uploadFilesStep(inputId, outputId) {\n",
              "  const inputElement = document.getElementById(inputId);\n",
              "  inputElement.disabled = false;\n",
              "\n",
              "  const outputElement = document.getElementById(outputId);\n",
              "  outputElement.innerHTML = '';\n",
              "\n",
              "  const pickedPromise = new Promise((resolve) => {\n",
              "    inputElement.addEventListener('change', (e) => {\n",
              "      resolve(e.target.files);\n",
              "    });\n",
              "  });\n",
              "\n",
              "  const cancel = document.createElement('button');\n",
              "  inputElement.parentElement.appendChild(cancel);\n",
              "  cancel.textContent = 'Cancel upload';\n",
              "  const cancelPromise = new Promise((resolve) => {\n",
              "    cancel.onclick = () => {\n",
              "      resolve(null);\n",
              "    };\n",
              "  });\n",
              "\n",
              "  // Wait for the user to pick the files.\n",
              "  const files = yield {\n",
              "    promise: Promise.race([pickedPromise, cancelPromise]),\n",
              "    response: {\n",
              "      action: 'starting',\n",
              "    }\n",
              "  };\n",
              "\n",
              "  cancel.remove();\n",
              "\n",
              "  // Disable the input element since further picks are not allowed.\n",
              "  inputElement.disabled = true;\n",
              "\n",
              "  if (!files) {\n",
              "    return {\n",
              "      response: {\n",
              "        action: 'complete',\n",
              "      }\n",
              "    };\n",
              "  }\n",
              "\n",
              "  for (const file of files) {\n",
              "    const li = document.createElement('li');\n",
              "    li.append(span(file.name, {fontWeight: 'bold'}));\n",
              "    li.append(span(\n",
              "        `(${file.type || 'n/a'}) - ${file.size} bytes, ` +\n",
              "        `last modified: ${\n",
              "            file.lastModifiedDate ? file.lastModifiedDate.toLocaleDateString() :\n",
              "                                    'n/a'} - `));\n",
              "    const percent = span('0% done');\n",
              "    li.appendChild(percent);\n",
              "\n",
              "    outputElement.appendChild(li);\n",
              "\n",
              "    const fileDataPromise = new Promise((resolve) => {\n",
              "      const reader = new FileReader();\n",
              "      reader.onload = (e) => {\n",
              "        resolve(e.target.result);\n",
              "      };\n",
              "      reader.readAsArrayBuffer(file);\n",
              "    });\n",
              "    // Wait for the data to be ready.\n",
              "    let fileData = yield {\n",
              "      promise: fileDataPromise,\n",
              "      response: {\n",
              "        action: 'continue',\n",
              "      }\n",
              "    };\n",
              "\n",
              "    // Use a chunked sending to avoid message size limits. See b/62115660.\n",
              "    let position = 0;\n",
              "    do {\n",
              "      const length = Math.min(fileData.byteLength - position, MAX_PAYLOAD_SIZE);\n",
              "      const chunk = new Uint8Array(fileData, position, length);\n",
              "      position += length;\n",
              "\n",
              "      const base64 = btoa(String.fromCharCode.apply(null, chunk));\n",
              "      yield {\n",
              "        response: {\n",
              "          action: 'append',\n",
              "          file: file.name,\n",
              "          data: base64,\n",
              "        },\n",
              "      };\n",
              "\n",
              "      let percentDone = fileData.byteLength === 0 ?\n",
              "          100 :\n",
              "          Math.round((position / fileData.byteLength) * 100);\n",
              "      percent.textContent = `${percentDone}% done`;\n",
              "\n",
              "    } while (position < fileData.byteLength);\n",
              "  }\n",
              "\n",
              "  // All done.\n",
              "  yield {\n",
              "    response: {\n",
              "      action: 'complete',\n",
              "    }\n",
              "  };\n",
              "}\n",
              "\n",
              "scope.google = scope.google || {};\n",
              "scope.google.colab = scope.google.colab || {};\n",
              "scope.google.colab._files = {\n",
              "  _uploadFiles,\n",
              "  _uploadFilesContinue,\n",
              "};\n",
              "})(self);\n",
              "</script> "
            ]
          },
          "metadata": {}
        },
        {
          "output_type": "stream",
          "name": "stdout",
          "text": [
            "Saving UNSW-NB15_features.csv to UNSW-NB15_features.csv\n"
          ]
        }
      ]
    },
    {
      "cell_type": "code",
      "source": [
        "spark = SparkSession.builder.appName(\"UNSW-NB15 Binary Classifier\").getOrCreate()\n",
        "\n",
        "df = spark.read.csv('UNSW-NB15.csv', header=False, inferSchema=True)"
      ],
      "metadata": {
        "id": "c6jAQSYj3jbK"
      },
      "execution_count": 4,
      "outputs": []
    },
    {
      "cell_type": "code",
      "source": [
        "feature_df = spark.read.csv('UNSW-NB15_features.csv', header=True)\n",
        "feature_df.show(truncate=False)"
      ],
      "metadata": {
        "colab": {
          "base_uri": "https://localhost:8080/"
        },
        "id": "egQ59-dh-Ysq",
        "outputId": "3caf3166-d4ff-42d5-e9e9-9175997e59ee"
      },
      "execution_count": 5,
      "outputs": [
        {
          "output_type": "stream",
          "name": "stdout",
          "text": [
            "+---+-------+-------+--------------------------------------------------------------------------------------------------------------------------------------------------------------+\n",
            "|No.|Name   |Type   |Description                                                                                                                                                   |\n",
            "+---+-------+-------+--------------------------------------------------------------------------------------------------------------------------------------------------------------+\n",
            "|1  |srcip  |nominal|Source IP address                                                                                                                                             |\n",
            "|2  |sport  |integer|Source port number                                                                                                                                            |\n",
            "|3  |dstip  |nominal|Destination IP address                                                                                                                                        |\n",
            "|4  |dsport |integer|Destination port number                                                                                                                                       |\n",
            "|5  |proto  |nominal|Transaction protocol                                                                                                                                          |\n",
            "|6  |state  |nominal|Indicates to the state and its dependent protocol, e.g. ACC, CLO, CON, ECO, ECR, FIN, INT, MAS, PAR, REQ, RST, TST, TXD, URH, URN, and (-) (if not used state)|\n",
            "|7  |dur    |Float  |Record total duration                                                                                                                                         |\n",
            "|8  |sbytes |Integer|Source to destination transaction bytes                                                                                                                       |\n",
            "|9  |dbytes |Integer|Destination to source transaction bytes                                                                                                                       |\n",
            "|10 |sttl   |Integer|Source to destination time to live value                                                                                                                      |\n",
            "|11 |dttl   |Integer|Destination to source time to live value                                                                                                                      |\n",
            "|12 |sloss  |Integer|Source packets retransmitted or dropped                                                                                                                       |\n",
            "|13 |dloss  |Integer|Destination packets retransmitted or dropped                                                                                                                  |\n",
            "|14 |service|nominal|http, ftp, smtp, ssh, dns, ftp-data ,irc  and (-) if not much used service                                                                                    |\n",
            "|15 |Sload  |Float  |Source bits per second                                                                                                                                        |\n",
            "|16 |Dload  |Float  |Destination bits per second                                                                                                                                   |\n",
            "|17 |Spkts  |integer|Source to destination packet count                                                                                                                            |\n",
            "|18 |Dpkts  |integer|Destination to source packet count                                                                                                                            |\n",
            "|19 |swin   |integer|Source TCP window advertisement value                                                                                                                         |\n",
            "|20 |dwin   |integer|Destination TCP window advertisement value                                                                                                                    |\n",
            "+---+-------+-------+--------------------------------------------------------------------------------------------------------------------------------------------------------------+\n",
            "only showing top 20 rows\n",
            "\n"
          ]
        }
      ]
    },
    {
      "cell_type": "code",
      "source": [
        "feature_names = [row['Name'] for row in feature_df.collect()]"
      ],
      "metadata": {
        "id": "fQV6GXY0_H1F"
      },
      "execution_count": 6,
      "outputs": []
    },
    {
      "cell_type": "code",
      "source": [
        "df = df.toDF(*feature_names)"
      ],
      "metadata": {
        "id": "7rXCQwymAD1R"
      },
      "execution_count": 7,
      "outputs": []
    },
    {
      "cell_type": "code",
      "source": [
        "df.show(5)"
      ],
      "metadata": {
        "colab": {
          "base_uri": "https://localhost:8080/"
        },
        "id": "pfDn15YjAQxT",
        "outputId": "046c4e6f-4d73-43a8-da46-dc7a55ad40b1"
      },
      "execution_count": 8,
      "outputs": [
        {
          "output_type": "stream",
          "name": "stdout",
          "text": [
            "+----------+-----+-------------+------+-----+-----+-----------+------+------+----+----+-----+-----+-------+---------+---------+-----+-----+----+----+----------+----------+-------+-------+-----------+-----------+---------+---------+----------+----------+---------+----------+------------+------------+------------+---------------+------------+----------------+------------+----------+----------+----------+----------+-----------+----------------+----------------+--------------+----------+-----+\n",
            "|     srcip|sport|        dstip|dsport|proto|state|        dur|sbytes|dbytes|sttl|dttl|sloss|dloss|service|    Sload|    Dload|Spkts|Dpkts|swin|dwin|     stcpb|     dtcpb|smeansz|dmeansz|trans_depth|res_bdy_len|     Sjit|     Djit|     Stime|     Ltime|  Sintpkt|   Dintpkt|      tcprtt|      synack|      ackdat|is_sm_ips_ports|ct_state_ttl|ct_flw_http_mthd|is_ftp_login|ct_ftp_cmd|ct_srv_src|ct_srv_dst|ct_dst_ltm|ct_src_ ltm|ct_src_dport_ltm|ct_dst_sport_ltm|ct_dst_src_ltm|attack_cat|Label|\n",
            "+----------+-----+-------------+------+-----+-----+-----------+------+------+----+----+-----+-----+-------+---------+---------+-----+-----+----+----+----------+----------+-------+-------+-----------+-----------+---------+---------+----------+----------+---------+----------+------------+------------+------------+---------------+------------+----------------+------------+----------+----------+----------+----------+-----------+----------------+----------------+--------------+----------+-----+\n",
            "|59.166.0.3|56716|149.171.126.8|   143|  tcp|  FIN| 0.82546002|  7812| 16236|  31|  29|   30|   32|      -| 75090.25|156111.73|  122|  126| 255| 255|2751097753|2748686736|     64|    129|          0|          0|445.25928| 474.9451|1421970774|1421970775|6.8190908|  6.599896|5.9700001E-4|4.6899999E-4|     1.28E-4|              0|           0|               0|           0|         0|         2|         7|         1|          4|               1|               1|             1|      NULL|    0|\n",
            "|59.166.0.0|43467|149.171.126.6| 49729|  tcp|  FIN|   0.101815|  4238| 65628|  31|  29|    7|   30|      -|328438.84|5087030.5|   72|   74| 255| 255| 961515433|3225510659|     59|    887|          0|          0|      0.0|91.579567|1421970775|1421970775| 1.429493|  1.387192|      6.8E-4|5.4600002E-4|     1.34E-4|              0|           0|               0|           0|         0|         7|         4|         1|          6|               1|               1|             1|      NULL|    0|\n",
            "|59.166.0.5|41289|149.171.126.2|  9574|  tcp|  FIN|0.044002999|  2750| 29104|  31|  29|    7|   17|      -|488693.97|5181101.5|   44|   48| 255| 255|3291096757|1191410228|     63|    606|          0|          0|78.126968|62.206562|1421970775|1421970775| 1.014977|0.92583001|     0.00125|     4.85E-4|     7.65E-4|              0|           0|               0|           0|         0|         3|         5|         3|          3|               1|               1|             1|      NULL|    0|\n",
            "|59.166.0.9|43785|149.171.126.0|  6881|  tcp|  FIN|  2.7908299| 10476|395734|  31|  29|   16|  143|      -|29863.518|1130840.8|  180|  320| 255| 255|3934392726|3961690324|     58|   1237|          0|          0|2707.4927| 2018.976|1421970772|1421970775|15.589459| 8.7470121|6.8400003E-4|5.3199998E-4|1.5199999E-4|              0|           0|               0|           0|         0|        11|         4|         3|          2|               1|               1|             1|      NULL|    0|\n",
            "|59.166.0.8|40691|149.171.126.9|  6881|  tcp|  FIN|  2.6335001| 13350|548216|  31|  29|   21|  197|      -|40381.238|1661560.6|  232|  438| 255| 255|   1518931|  18267719|     58|   1252|          0|          0|718.33679|500.57288|1421970773|1421970775|11.399026| 6.0251832|     6.19E-4|     4.89E-4|      1.3E-4|              0|           0|               0|           0|         0|        16|         7|         7|          1|               1|               1|             1|      NULL|    0|\n",
            "+----------+-----+-------------+------+-----+-----+-----------+------+------+----+----+-----+-----+-------+---------+---------+-----+-----+----+----+----------+----------+-------+-------+-----------+-----------+---------+---------+----------+----------+---------+----------+------------+------------+------------+---------------+------------+----------------+------------+----------+----------+----------+----------+-----------+----------------+----------------+--------------+----------+-----+\n",
            "only showing top 5 rows\n",
            "\n"
          ]
        }
      ]
    },
    {
      "cell_type": "code",
      "source": [
        "# DATA EXPLORATION AND PREPROCESSING"
      ],
      "metadata": {
        "id": "zW2Ac0QxBKQS"
      },
      "execution_count": null,
      "outputs": []
    },
    {
      "cell_type": "markdown",
      "source": [],
      "metadata": {
        "id": "03xYKuPsSQdw"
      }
    },
    {
      "cell_type": "code",
      "source": [
        "# Handle null\n",
        "df = df.fillna({'attack_cat': 'Normal'})\n",
        "df = df.withColumn(\"attack_cat\", trim(col(\"attack_cat\")))"
      ],
      "metadata": {
        "id": "rWEXaLI-BS-T"
      },
      "execution_count": 9,
      "outputs": []
    },
    {
      "cell_type": "code",
      "source": [
        "df = df.withColumnRenamed(\"ct_src_ ltm\", \"ct_src_ltm\")"
      ],
      "metadata": {
        "id": "efSzBskWB7qm"
      },
      "execution_count": 10,
      "outputs": []
    },
    {
      "cell_type": "code",
      "source": [
        "df.show(5)"
      ],
      "metadata": {
        "colab": {
          "base_uri": "https://localhost:8080/"
        },
        "id": "ksPvQX8JSzvP",
        "outputId": "0f7c1b58-0013-43ee-80b9-e841752484aa"
      },
      "execution_count": 11,
      "outputs": [
        {
          "output_type": "stream",
          "name": "stdout",
          "text": [
            "+----------+-----+-------------+------+-----+-----+-----------+------+------+----+----+-----+-----+-------+---------+---------+-----+-----+----+----+----------+----------+-------+-------+-----------+-----------+---------+---------+----------+----------+---------+----------+------------+------------+------------+---------------+------------+----------------+------------+----------+----------+----------+----------+----------+----------------+----------------+--------------+----------+-----+\n",
            "|     srcip|sport|        dstip|dsport|proto|state|        dur|sbytes|dbytes|sttl|dttl|sloss|dloss|service|    Sload|    Dload|Spkts|Dpkts|swin|dwin|     stcpb|     dtcpb|smeansz|dmeansz|trans_depth|res_bdy_len|     Sjit|     Djit|     Stime|     Ltime|  Sintpkt|   Dintpkt|      tcprtt|      synack|      ackdat|is_sm_ips_ports|ct_state_ttl|ct_flw_http_mthd|is_ftp_login|ct_ftp_cmd|ct_srv_src|ct_srv_dst|ct_dst_ltm|ct_src_ltm|ct_src_dport_ltm|ct_dst_sport_ltm|ct_dst_src_ltm|attack_cat|Label|\n",
            "+----------+-----+-------------+------+-----+-----+-----------+------+------+----+----+-----+-----+-------+---------+---------+-----+-----+----+----+----------+----------+-------+-------+-----------+-----------+---------+---------+----------+----------+---------+----------+------------+------------+------------+---------------+------------+----------------+------------+----------+----------+----------+----------+----------+----------------+----------------+--------------+----------+-----+\n",
            "|59.166.0.3|56716|149.171.126.8|   143|  tcp|  FIN| 0.82546002|  7812| 16236|  31|  29|   30|   32|      -| 75090.25|156111.73|  122|  126| 255| 255|2751097753|2748686736|     64|    129|          0|          0|445.25928| 474.9451|1421970774|1421970775|6.8190908|  6.599896|5.9700001E-4|4.6899999E-4|     1.28E-4|              0|           0|               0|           0|         0|         2|         7|         1|         4|               1|               1|             1|    Normal|    0|\n",
            "|59.166.0.0|43467|149.171.126.6| 49729|  tcp|  FIN|   0.101815|  4238| 65628|  31|  29|    7|   30|      -|328438.84|5087030.5|   72|   74| 255| 255| 961515433|3225510659|     59|    887|          0|          0|      0.0|91.579567|1421970775|1421970775| 1.429493|  1.387192|      6.8E-4|5.4600002E-4|     1.34E-4|              0|           0|               0|           0|         0|         7|         4|         1|         6|               1|               1|             1|    Normal|    0|\n",
            "|59.166.0.5|41289|149.171.126.2|  9574|  tcp|  FIN|0.044002999|  2750| 29104|  31|  29|    7|   17|      -|488693.97|5181101.5|   44|   48| 255| 255|3291096757|1191410228|     63|    606|          0|          0|78.126968|62.206562|1421970775|1421970775| 1.014977|0.92583001|     0.00125|     4.85E-4|     7.65E-4|              0|           0|               0|           0|         0|         3|         5|         3|         3|               1|               1|             1|    Normal|    0|\n",
            "|59.166.0.9|43785|149.171.126.0|  6881|  tcp|  FIN|  2.7908299| 10476|395734|  31|  29|   16|  143|      -|29863.518|1130840.8|  180|  320| 255| 255|3934392726|3961690324|     58|   1237|          0|          0|2707.4927| 2018.976|1421970772|1421970775|15.589459| 8.7470121|6.8400003E-4|5.3199998E-4|1.5199999E-4|              0|           0|               0|           0|         0|        11|         4|         3|         2|               1|               1|             1|    Normal|    0|\n",
            "|59.166.0.8|40691|149.171.126.9|  6881|  tcp|  FIN|  2.6335001| 13350|548216|  31|  29|   21|  197|      -|40381.238|1661560.6|  232|  438| 255| 255|   1518931|  18267719|     58|   1252|          0|          0|718.33679|500.57288|1421970773|1421970775|11.399026| 6.0251832|     6.19E-4|     4.89E-4|      1.3E-4|              0|           0|               0|           0|         0|        16|         7|         7|         1|               1|               1|             1|    Normal|    0|\n",
            "+----------+-----+-------------+------+-----+-----+-----------+------+------+----+----+-----+-----+-------+---------+---------+-----+-----+----+----+----------+----------+-------+-------+-----------+-----------+---------+---------+----------+----------+---------+----------+------------+------------+------------+---------------+------------+----------------+------------+----------+----------+----------+----------+----------+----------------+----------------+--------------+----------+-----+\n",
            "only showing top 5 rows\n",
            "\n"
          ]
        }
      ]
    },
    {
      "cell_type": "code",
      "source": [
        "df.groupBy(\"attack_cat\").count().orderBy(\"count\", ascending=False).show()"
      ],
      "metadata": {
        "id": "fztWsXWBvpoF",
        "outputId": "4fbe6134-a23d-4d46-f515-872e2e39074c",
        "colab": {
          "base_uri": "https://localhost:8080/"
        }
      },
      "execution_count": 12,
      "outputs": [
        {
          "output_type": "stream",
          "name": "stdout",
          "text": [
            "+--------------+-------+\n",
            "|    attack_cat|  count|\n",
            "+--------------+-------+\n",
            "|        Normal|2218456|\n",
            "|       Generic| 215481|\n",
            "|      Exploits|  44525|\n",
            "|       Fuzzers|  24246|\n",
            "|           DoS|  16353|\n",
            "|Reconnaissance|  13987|\n",
            "|      Analysis|   2677|\n",
            "|      Backdoor|   1795|\n",
            "|     Shellcode|   1511|\n",
            "|     Backdoors|    534|\n",
            "|         Worms|    174|\n",
            "+--------------+-------+\n",
            "\n"
          ]
        }
      ]
    },
    {
      "cell_type": "code",
      "source": [
        "# Select numerical columns\n",
        "numerical_cols = [\"dur\", \"sbytes\", \"dbytes\", \"sttl\", \"dttl\", \"Spkts\", \"Dpkts\", \"Sload\", \"Dload\"]\n",
        "\n",
        "# Sample to reduce memory usage (adjust fraction as needed)\n",
        "df_sample = df.select(numerical_cols).sample(withReplacement=False, fraction=0.05, seed=42)\n",
        "df_pd = df_sample.toPandas()"
      ],
      "metadata": {
        "id": "11AlQs2NuIBp"
      },
      "execution_count": 13,
      "outputs": []
    },
    {
      "cell_type": "code",
      "source": [
        "# Compute correlation matrix\n",
        "corr_matrix = df_pd.corr()\n",
        "\n",
        "# Plot heatmap\n",
        "plt.figure(figsize=(10, 8))\n",
        "sns.heatmap(corr_matrix, annot=True, cmap=\"coolwarm\", linewidths=0.5)\n",
        "plt.title(\"Correlation Matrix of Numerical Features (UNSW-NB15)\")\n",
        "plt.xticks(rotation=45)\n",
        "plt.yticks(rotation=45)\n",
        "plt.show()"
      ],
      "metadata": {
        "id": "QW_wSTl3uVSb",
        "outputId": "3afcf87e-aaec-44f1-cb3e-1faf788d9ad5",
        "colab": {
          "base_uri": "https://localhost:8080/",
          "height": 728
        }
      },
      "execution_count": 14,
      "outputs": [
        {
          "output_type": "display_data",
          "data": {
            "text/plain": [
              "<Figure size 1000x800 with 2 Axes>"
            ],
            "image/png": "[encoded data removed]"
          },
          "metadata": {}
        }
      ]
    },
    {
      "cell_type": "code",
      "source": [
        "# encode categorical columns\n",
        "categorical_cols = [\"proto\", \"service\", \"state\", \"attack_cat\"]\n",
        "indexers = [StringIndexer(inputCol=c, outputCol=c+\"_index\") for c in categorical_cols]\n",
        "\n",
        "for indexer in indexers:\n",
        "    df = indexer.fit(df).transform(df)"
      ],
      "metadata": {
        "id": "A-ic8y3ajn9P"
      },
      "execution_count": 15,
      "outputs": []
    },
    {
      "cell_type": "code",
      "source": [
        "# assembling of features\n",
        "feature_cols = [\"proto_index\", \"service_index\", \"state_index\"]\n",
        "assembler = VectorAssembler(inputCols=feature_cols, outputCol=\"features\")\n",
        "df = assembler.transform(df)"
      ],
      "metadata": {
        "id": "SuA3XSwIkloS"
      },
      "execution_count": 17,
      "outputs": []
    },
    {
      "cell_type": "code",
      "source": [
        "# Chi-square requires label column to be categorical (use attack_cat_index if already indexed)\n",
        "from pyspark.ml.stat import ChiSquareTest\n",
        "chi_df = df.select(\"features\", \"attack_cat_index\")\n",
        "ChiSquareTest.test(chi_df, \"features\", \"attack_cat_index\").show(truncate=False)"
      ],
      "metadata": {
        "id": "ioqT4WI9kISA",
        "outputId": "70e4da91-e0b6-4f69-afde-22970f0252c0",
        "colab": {
          "base_uri": "https://localhost:8080/"
        }
      },
      "execution_count": 19,
      "outputs": [
        {
          "output_type": "stream",
          "name": "stdout",
          "text": [
            "+-------------+----------------+---------------------------------------------------------+\n",
            "|pValues      |degreesOfFreedom|statistics                                               |\n",
            "+-------------+----------------+---------------------------------------------------------+\n",
            "|[0.0,0.0,0.0]|[1330, 120, 150]|[1529096.4645816796,657897.4119156346,1063402.1173250854]|\n",
            "+-------------+----------------+---------------------------------------------------------+\n",
            "\n"
          ]
        }
      ]
    },
    {
      "cell_type": "code",
      "source": [
        "#df = df.drop(\"id\", \"srcip\", \"sport\", \"dstip\", \"dsport\", \"is_sm_ips_ports\")  # Keep only engineered and numeric fields"
      ],
      "metadata": {
        "id": "KUhBMCahv55k"
      },
      "execution_count": null,
      "outputs": []
    },
    {
      "cell_type": "code",
      "source": [
        "df.select(\"dur\", \"sbytes\", \"dbytes\", \"sttl\", \"dttl\", \"Spkts\", \"Dpkts\").describe().show()"
      ],
      "metadata": {
        "colab": {
          "base_uri": "https://localhost:8080/"
        },
        "id": "DSoqY6wpeT95",
        "outputId": "f827fd81-d3e6-45f5-fea5-4fc97024bb75"
      },
      "execution_count": 21,
      "outputs": [
        {
          "output_type": "stream",
          "name": "stdout",
          "text": [
            "+-------+------------------+-----------------+------------------+-----------------+------------------+-----------------+------------------+\n",
            "|summary|               dur|           sbytes|            dbytes|             sttl|              dttl|            Spkts|             Dpkts|\n",
            "+-------+------------------+-----------------+------------------+-----------------+------------------+-----------------+------------------+\n",
            "|  count|           2539739|          2539739|           2539739|          2539739|           2539739|          2539739|           2539739|\n",
            "|   mean|0.6588634003800393|4340.072263330996| 36432.01132478574|62.78149802007214|   30.770440978384| 33.2925678583508|42.731821655689814|\n",
            "| stddev|13.925767633289283|56409.39812286232|161105.30400824756|74.62669956848524|42.851922189518724|76.28775585678378|121.50842004704197|\n",
            "|    min|               0.0|                0|                 0|                0|                 0|                0|                 0|\n",
            "|    max|         8786.6377|         14355774|          14657531|              255|               254|            10646|             11018|\n",
            "+-------+------------------+-----------------+------------------+-----------------+------------------+-----------------+------------------+\n",
            "\n"
          ]
        }
      ]
    },
    {
      "cell_type": "code",
      "source": [
        "df_sample = df.sample(withReplacement=False, fraction=0.05, seed=42).toPandas()"
      ],
      "metadata": {
        "id": "tVKSRfzFe5k9"
      },
      "execution_count": null,
      "outputs": []
    },
    {
      "cell_type": "code",
      "source": [
        "# cast numerical columns\n",
        "numeric_cols = [\"dur\", \"sbytes\", \"dbytes\", \"sttl\", \"dttl\", \"Spkts\", \"Dpkts\", \"Sload\", \"Dload\", \"ct_ftp_cmd\", \"ct_flw_http_mthd\"]\n",
        "for c in numeric_cols:\n",
        "    df = df.withColumn(c, col(c).cast(\"double\"))"
      ],
      "metadata": {
        "id": "DKVB4FUk79fR"
      },
      "execution_count": 22,
      "outputs": []
    },
    {
      "cell_type": "code",
      "source": [
        "# preparing labels for classification\n",
        "# Binary classification\n",
        "df_binary = df.withColumn(\"label\", when(df[\"label\"] == 1, 1).otherwise(0))\n",
        "\n",
        "# Multi-class classification\n",
        "# 'attack_cat_index' already created by StringIndexer"
      ],
      "metadata": {
        "id": "1kWfXDWW8Z1m"
      },
      "execution_count": null,
      "outputs": []
    },
    {
      "cell_type": "code",
      "source": [
        "# Shuffle the DataFrame\n",
        "df_shuffled = df_binary.orderBy(rand())"
      ],
      "metadata": {
        "id": "9a-bGb0kBbBC"
      },
      "execution_count": null,
      "outputs": []
    },
    {
      "cell_type": "code",
      "source": [
        "# train test splitting of the features\n",
        "train_data, test_data = df_shuffled.randomSplit([0.8, 0.2], seed=42)"
      ],
      "metadata": {
        "id": "hFahs9Kq8fF8"
      },
      "execution_count": null,
      "outputs": []
    },
    {
      "cell_type": "code",
      "source": [
        "# training the binary classifier\n",
        "rf = RandomForestClassifier(featuresCol=\"features\", labelCol=\"label\", numTrees=100, maxBins=150)\n",
        "rf_model = rf.fit(train_data)"
      ],
      "metadata": {
        "id": "4bE8D9Bh8li0"
      },
      "execution_count": null,
      "outputs": []
    },
    {
      "cell_type": "code",
      "source": [
        "#make predictions\n",
        "predictions = rf_model.transform(test_data)\n",
        "predictions.select(\"label\", \"prediction\", \"probability\").show()"
      ],
      "metadata": {
        "id": "YOJmrLeq8wPa",
        "colab": {
          "base_uri": "https://localhost:8080/"
        },
        "outputId": "6da3ed2a-e060-48d2-eb1b-caebfe374cc1"
      },
      "execution_count": null,
      "outputs": [
        {
          "output_type": "stream",
          "name": "stdout",
          "text": [
            "+-----+----------+--------------------+\n",
            "|label|prediction|         probability|\n",
            "+-----+----------+--------------------+\n",
            "|    1|       1.0|[0.05907611922349...|\n",
            "|    1|       1.0|[0.04937924863637...|\n",
            "|    1|       1.0|[0.04937924863637...|\n",
            "|    1|       1.0|[0.04295031029343...|\n",
            "|    1|       1.0|[0.06606247971519...|\n",
            "|    1|       1.0|[0.04835895671777...|\n",
            "|    1|       1.0|[0.04937924863637...|\n",
            "|    1|       1.0|[0.04490871737569...|\n",
            "|    1|       1.0|[0.04937924863637...|\n",
            "|    1|       1.0|[0.04937924863637...|\n",
            "|    1|       1.0|[0.04295031029343...|\n",
            "|    1|       1.0|[0.04295031029343...|\n",
            "|    1|       1.0|[0.04295031029343...|\n",
            "|    1|       1.0|[0.04835895671777...|\n",
            "|    1|       1.0|[0.04937924863637...|\n",
            "|    1|       1.0|[0.04937924863637...|\n",
            "|    1|       1.0|[0.04490871737569...|\n",
            "|    1|       1.0|[0.04295031029343...|\n",
            "|    1|       1.0|[0.04835895671777...|\n",
            "|    1|       1.0|[0.04937924863637...|\n",
            "+-----+----------+--------------------+\n",
            "only showing top 20 rows\n",
            "\n"
          ]
        }
      ]
    },
    {
      "cell_type": "code",
      "source": [
        "evaluator = BinaryClassificationEvaluator(labelCol=\"label\", metricName=\"areaUnderROC\")\n",
        "auc = evaluator.evaluate(predictions)\n",
        "print(f\"AUC for Binary Classification: {auc}\")"
      ],
      "metadata": {
        "colab": {
          "base_uri": "https://localhost:8080/"
        },
        "id": "paya9l9P9W_r",
        "outputId": "8b27718b-5b77-4eac-d366-8d761c931e4e"
      },
      "execution_count": null,
      "outputs": [
        {
          "output_type": "stream",
          "name": "stdout",
          "text": [
            "AUC for Binary Classification: 0.9991583086877553\n"
          ]
        }
      ]
    },
    {
      "cell_type": "code",
      "source": [
        "# train and test for the multi classifier\n",
        "# Shuffle the DataFrame\n",
        "df_shuffled_2 = df.orderBy(rand())\n",
        "\n",
        "#run trining validation and testing\n",
        "train_data_mc, val_data_mc, test_data_mc = df.randomSplit([0.6, 0.2, 0.2], seed=42)"
      ],
      "metadata": {
        "id": "7sf73KcfCqJQ"
      },
      "execution_count": null,
      "outputs": []
    },
    {
      "cell_type": "code",
      "source": [
        "# train the model (multi) classifier\n",
        "rf_mc = RandomForestClassifier(\n",
        "    labelCol=\"attack_cat_index\",\n",
        "    featuresCol=\"features\",\n",
        "    numTrees=100,\n",
        "    maxBins=150  # ensure this is >= highest cardinality of any categorical feature\n",
        ")\n",
        "\n",
        "rf_mc_model = rf_mc.fit(train_data_mc)"
      ],
      "metadata": {
        "id": "T9ls6Il1JslN"
      },
      "execution_count": null,
      "outputs": []
    },
    {
      "cell_type": "code",
      "source": [
        "# validate using validation set\n",
        "val_predictions_mc = rf_mc_model.transform(val_data_mc)\n",
        "\n",
        "evaluator = MulticlassClassificationEvaluator(\n",
        "    labelCol=\"attack_cat_index\",\n",
        "    predictionCol=\"prediction\",\n",
        "    metricName=\"accuracy\"  # or \"f1\", \"weightedPrecision\", \"weightedRecall\"\n",
        ")\n",
        "val_auc = evaluator.evaluate(val_predictions_mc)\n",
        "print(f\"Validation AUC: {val_auc}\")"
      ],
      "metadata": {
        "colab": {
          "base_uri": "https://localhost:8080/"
        },
        "id": "EcEz0ACGMgup",
        "outputId": "61065d5e-ff51-4a84-899c-6e0ad6702f3e"
      },
      "execution_count": null,
      "outputs": [
        {
          "output_type": "stream",
          "name": "stdout",
          "text": [
            "Validation AUC: 0.9715308944195113\n"
          ]
        }
      ]
    },
    {
      "cell_type": "code",
      "source": [
        "test_predictions_mc = rf_mc_model.transform(test_data_mc)\n",
        "\n",
        "test_accuracy = evaluator.evaluate(test_predictions_mc)\n",
        "print(f\"Test Accuracy (Multi-class RF): {test_accuracy}\")"
      ],
      "metadata": {
        "id": "sn_uQq-sKxcl",
        "colab": {
          "base_uri": "https://localhost:8080/"
        },
        "outputId": "f6cb9439-27e3-4164-8655-5aaaed70aadc"
      },
      "execution_count": null,
      "outputs": [
        {
          "output_type": "stream",
          "name": "stdout",
          "text": [
            "Test Accuracy (Multi-class RF): 0.9722138558663903\n"
          ]
        }
      ]
    },
    {
      "cell_type": "code",
      "source": [
        "evaluator_mc = MulticlassClassificationEvaluator(\n",
        "    labelCol=\"attack_cat_index\",\n",
        "    predictionCol=\"prediction\",\n",
        "    metricName=\"accuracy\"\n",
        ")\n",
        "\n",
        "accuracy = evaluator_mc.evaluate(test_predictions_mc)\n",
        "print(f\"Accuracy for Multi-Class Classification: {accuracy}\")\n"
      ],
      "metadata": {
        "id": "pQ6B_6TLRJbA",
        "colab": {
          "base_uri": "https://localhost:8080/"
        },
        "outputId": "2219fa51-65d6-4b7e-ba65-87b54a8d7c6f"
      },
      "execution_count": null,
      "outputs": [
        {
          "output_type": "stream",
          "name": "stdout",
          "text": [
            "Accuracy for Multi-Class Classification: 0.9722138558663903\n"
          ]
        }
      ]
    },
    {
      "cell_type": "code",
      "source": [
        "preds_pd = test_predictions_mc.select(\"attack_cat_index\", \"prediction\").toPandas()\n",
        "\n",
        "# Compute confusion matrix\n",
        "cm = confusion_matrix(preds_pd[\"attack_cat_index\"], preds_pd[\"prediction\"])\n",
        "\n",
        "# Plot\n",
        "plt.figure(figsize=(10, 7))\n",
        "sns.heatmap(cm, annot=True, fmt='d', cmap=\"Blues\")\n",
        "plt.title(\"Confusion Matrix - Multi-Class Classifier\")\n",
        "plt.xlabel(\"Predicted\")\n",
        "plt.ylabel(\"Actual\")\n",
        "plt.show()"
      ],
      "metadata": {
        "colab": {
          "base_uri": "https://localhost:8080/",
          "height": 641
        },
        "id": "R7zVF9-eXrBx",
        "outputId": "f8bf779a-2c4f-4e30-e3bd-8b1d49a66ef6"
      },
      "execution_count": null,
      "outputs": [
        {
          "output_type": "display_data",
          "data": {
            "text/plain": [
              "<Figure size 1000x700 with 2 Axes>"
            ],
            "image/png": "[encoded data removed]"
          },
          "metadata": {}
        }
      ]
    },
    {
      "cell_type": "code",
      "source": [
        "print(classification_report(preds_pd[\"attack_cat_index\"], preds_pd[\"prediction\"]))"
      ],
      "metadata": {
        "colab": {
          "base_uri": "https://localhost:8080/"
        },
        "id": "U46cC-TVRKy_",
        "outputId": "3ea35cec-73bd-4787-fa27-b9866dd935a1"
      },
      "execution_count": null,
      "outputs": [
        {
          "output_type": "stream",
          "name": "stderr",
          "text": [
            "/usr/local/lib/python3.11/dist-packages/sklearn/metrics/_classification.py:1565: UndefinedMetricWarning: Precision is ill-defined and being set to 0.0 in labels with no predicted samples. Use `zero_division` parameter to control this behavior.\n",
            "  _warn_prf(average, modifier, f\"{metric.capitalize()} is\", len(result))\n",
            "/usr/local/lib/python3.11/dist-packages/sklearn/metrics/_classification.py:1565: UndefinedMetricWarning: Precision is ill-defined and being set to 0.0 in labels with no predicted samples. Use `zero_division` parameter to control this behavior.\n",
            "  _warn_prf(average, modifier, f\"{metric.capitalize()} is\", len(result))\n",
            "/usr/local/lib/python3.11/dist-packages/sklearn/metrics/_classification.py:1565: UndefinedMetricWarning: Precision is ill-defined and being set to 0.0 in labels with no predicted samples. Use `zero_division` parameter to control this behavior.\n",
            "  _warn_prf(average, modifier, f\"{metric.capitalize()} is\", len(result))\n"
          ]
        },
        {
          "output_type": "stream",
          "name": "stdout",
          "text": [
            "              precision    recall  f1-score   support\n",
            "\n",
            "         0.0       0.97      1.00      0.99    665646\n",
            "         1.0       1.00      0.97      0.99     64500\n",
            "         2.0       0.57      0.62      0.59     13205\n",
            "         3.0       1.00      0.02      0.03      7244\n",
            "         4.0       0.36      0.00      0.00      4862\n",
            "         5.0       0.00      0.00      0.00      4180\n",
            "         6.0       0.00      0.00      0.00       814\n",
            "         7.0       0.00      0.00      0.00       539\n",
            "         8.0       0.00      0.00      0.00       468\n",
            "         9.0       0.00      0.00      0.00       163\n",
            "        10.0       0.00      0.00      0.00        48\n",
            "\n",
            "    accuracy                           0.97    761669\n",
            "   macro avg       0.35      0.24      0.24    761669\n",
            "weighted avg       0.96      0.97      0.96    761669\n",
            "\n"
          ]
        }
      ]
    },
    {
      "cell_type": "code",
      "source": [
        "print(classification_report(\n",
        "    preds_pd[\"attack_cat_index\"],\n",
        "    preds_pd[\"prediction\"],\n",
        "    digits=3\n",
        "))"
      ],
      "metadata": {
        "colab": {
          "base_uri": "https://localhost:8080/"
        },
        "id": "BVnVlH_pWIZ2",
        "outputId": "8de15b44-1ef1-4500-b0d9-67abc090ba70"
      },
      "execution_count": null,
      "outputs": [
        {
          "output_type": "stream",
          "name": "stdout",
          "text": [
            "              precision    recall  f1-score   support\n",
            "\n",
            "         0.0      0.984     0.998     0.991    444017\n",
            "         1.0      0.999     0.974     0.986     43088\n",
            "         2.0      0.526     0.876     0.657      8757\n",
            "         3.0      1.000     0.015     0.030      4786\n",
            "         4.0      1.000     0.000     0.001      3199\n",
            "         5.0      0.936     0.327     0.485      2794\n",
            "         6.0      0.000     0.000     0.000       537\n",
            "         7.0      0.000     0.000     0.000       366\n",
            "         8.0      0.000     0.000     0.000       303\n",
            "         9.0      0.000     0.000     0.000       105\n",
            "        10.0      0.000     0.000     0.000        35\n",
            "\n",
            "    accuracy                          0.972    507987\n",
            "   macro avg      0.495     0.290     0.286    507987\n",
            "weighted avg      0.975     0.972     0.964    507987\n",
            "\n"
          ]
        },
        {
          "output_type": "stream",
          "name": "stderr",
          "text": [
            "/usr/local/lib/python3.11/dist-packages/sklearn/metrics/_classification.py:1565: UndefinedMetricWarning: Precision is ill-defined and being set to 0.0 in labels with no predicted samples. Use `zero_division` parameter to control this behavior.\n",
            "  _warn_prf(average, modifier, f\"{metric.capitalize()} is\", len(result))\n",
            "/usr/local/lib/python3.11/dist-packages/sklearn/metrics/_classification.py:1565: UndefinedMetricWarning: Precision is ill-defined and being set to 0.0 in labels with no predicted samples. Use `zero_division` parameter to control this behavior.\n",
            "  _warn_prf(average, modifier, f\"{metric.capitalize()} is\", len(result))\n",
            "/usr/local/lib/python3.11/dist-packages/sklearn/metrics/_classification.py:1565: UndefinedMetricWarning: Precision is ill-defined and being set to 0.0 in labels with no predicted samples. Use `zero_division` parameter to control this behavior.\n",
            "  _warn_prf(average, modifier, f\"{metric.capitalize()} is\", len(result))\n"
          ]
        }
      ]
    }
  ]
}